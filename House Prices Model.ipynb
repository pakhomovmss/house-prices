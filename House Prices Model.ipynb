{
 "cells": [
  {
   "cell_type": "code",
   "execution_count": 1,
   "metadata": {},
   "outputs": [],
   "source": [
    "import matplotlib.pyplot as plt\n",
    "import numpy as np # linear algebra\n",
    "import pandas as pd # data processing, CSV file I/O (e.g. pd.read_csv)\n",
    "\n",
    "from sklearn.model_selection import train_test_split\n",
    "from sklearn.tree import DecisionTreeRegressor\n",
    "from sklearn.ensemble import RandomForestRegressor\n",
    "from sklearn.metrics import mean_squared_error\n",
    "\n",
    "import warnings\n",
    "warnings.filterwarnings(\"ignore\")"
   ]
  },
  {
   "cell_type": "code",
   "execution_count": 16,
   "metadata": {},
   "outputs": [],
   "source": [
    "from sklearn.model_selection import StratifiedKFold\n",
    "import xgboost"
   ]
  },
  {
   "cell_type": "code",
   "execution_count": 3,
   "metadata": {},
   "outputs": [],
   "source": [
    "from sklearn.model_selection import GridSearchCV"
   ]
  },
  {
   "cell_type": "code",
   "execution_count": 2,
   "metadata": {},
   "outputs": [],
   "source": [
    "train = pd.read_csv(\"E:\\\\Data Science\\\\Datasets\\\\HousePrices\\\\train_data0909.csv\")\n",
    "test = pd.read_csv(\"E:\\\\Data Science\\\\Datasets\\\\HousePrices\\\\test_data0909.csv\")"
   ]
  },
  {
   "cell_type": "code",
   "execution_count": 3,
   "metadata": {},
   "outputs": [],
   "source": [
    "train_lab = train.pop('SalePrice')"
   ]
  },
  {
   "cell_type": "code",
   "execution_count": 4,
   "metadata": {},
   "outputs": [],
   "source": [
    "train_feat = np.array(train)"
   ]
  },
  {
   "cell_type": "code",
   "execution_count": 5,
   "metadata": {},
   "outputs": [
    {
     "data": {
      "text/plain": [
       "array([[-0.29333824, -0.08625604,  1.16564572, ..., -0.81172989,\n",
       "        -0.36003761,  0.35849803],\n",
       "       [-0.08102604, -0.08625604, -0.79437517, ...,  0.28215182,\n",
       "        -0.36003761, -0.05582134],\n",
       "       [ 0.22359582, -0.08625604,  1.193187  , ..., -0.63929533,\n",
       "        -0.36003761,  0.64098851],\n",
       "       ...,\n",
       "       [-0.18404361,  4.94698484,  1.84958744, ...,  0.08277437,\n",
       "        -0.36003761, -1.03512166],\n",
       "       [-0.05942558, -0.08625604, -0.79437517, ..., -0.21359752,\n",
       "         1.46916417, -1.09161976],\n",
       "       [-0.01880933, -0.08625604, -0.79437517, ...,  0.26598608,\n",
       "        -0.36003761, -0.92212547]])"
      ]
     },
     "execution_count": 5,
     "metadata": {},
     "output_type": "execute_result"
    }
   ],
   "source": [
    "train_feat"
   ]
  },
  {
   "cell_type": "code",
   "execution_count": 6,
   "metadata": {},
   "outputs": [],
   "source": [
    "results = []\n",
    "\n",
    "def forest(X_train, y_train, X_test, y_test, n_est, depth, leaf_samples, features, res_list):\n",
    "    model = RandomForestRegressor(n_estimators=n_est, max_depth=depth, max_features=features, min_samples_leaf=leaf_samples)\n",
    "    model.fit(X_train, y_train)\n",
    "    \n",
    "    predictions = model.predict(X_test)\n",
    "    score = np.sqrt(mean_squared_error(predictions, y_test))\n",
    "    \n",
    "    params = {}\n",
    "    params[\"n_est\"] = n_est\n",
    "    params[\"depth\"] = depth\n",
    "    params[\"score\"] = score\n",
    "    \n",
    "    res_list.append(params)\n",
    "\n",
    "def tree(X_train, y_train, X_test, y_test, depth, res_list):\n",
    "    model = DecisionTreeRegressor(max_depth=depth)\n",
    "    model.fit(X_train, y_train)\n",
    "    \n",
    "    predictions = model.predict(X_test)\n",
    "    score = np.sqrt(mean_squared_error(predictions, y_test))\n",
    "    \n",
    "    params = {}\n",
    "    params[\"n_est\"] = 1\n",
    "    params[\"depth\"] = depth\n",
    "    params[\"score\"] = score\n",
    "    \n",
    "    res_list.append(params)"
   ]
  },
  {
   "cell_type": "code",
   "execution_count": 23,
   "metadata": {},
   "outputs": [],
   "source": [
    "def xgb_func(X, y, X_test, y_test, k, est, depth, lr=[0.0015]):\n",
    "    model = xgboost.XGBRegressor()\n",
    "    \n",
    "    parameters = {'n_estimators':est, \n",
    "                  'learning_rate': lr,\n",
    "                  'max_depth':depth}\n",
    "    \n",
    "    xgb = GridSearchCV(model, parameters, \n",
    "                      scoring = 'neg_mean_squared_error',\n",
    "                      cv = k)\n",
    "    \n",
    "    xgb.fit(X, y)\n",
    "    \n",
    "    predictions = model.predict(X_test)\n",
    "    score = np.sqrt(mean_squared_error(predictions, y_test))\n",
    "    \n",
    "    params = {}\n",
    "    params[\"flag\"] = \"xgb\"\n",
    "    params[\"n_est\"] = est\n",
    "    params[\"depth\"] = depth\n",
    "    params[\"score\"] = score\n",
    "    \n",
    "    res_list.append(params)"
   ]
  },
  {
   "cell_type": "code",
   "execution_count": 7,
   "metadata": {},
   "outputs": [],
   "source": [
    "X_train, X_test, y_train, y_test = train_test_split(train_feat, train_lab, test_size=0.33)"
   ]
  },
  {
   "cell_type": "code",
   "execution_count": 8,
   "metadata": {},
   "outputs": [
    {
     "data": {
      "text/plain": [
       "LotArea         -1.684821\n",
       "MiscVal         -0.092212\n",
       "2ndFlrSF        -0.774988\n",
       "PoolArea        -0.057207\n",
       "MasVnrArea      -0.563123\n",
       "LowQualFinSF     0.000000\n",
       "GrLivArea        6.008813\n",
       "TotalBsmtSF     -2.356667\n",
       "3SsnPorch        0.000000\n",
       "ScreenPorch      0.000000\n",
       "WoodDeckSF      -0.729382\n",
       "1stFlrSF        -1.882468\n",
       "EnclosedPorch   -0.360615\n",
       "GarageArea      -2.173890\n",
       "dtype: float64"
      ]
     },
     "execution_count": 8,
     "metadata": {},
     "output_type": "execute_result"
    }
   ],
   "source": [
    "test.min()"
   ]
  },
  {
   "cell_type": "code",
   "execution_count": 9,
   "metadata": {},
   "outputs": [],
   "source": [
    "tree_depths = [2,3,4,5,6,7,8,10,12,15,20]\n",
    "\n",
    "for depth in tree_depths:\n",
    "    tree(X_train, y_train, X_test, y_test, depth=depth, res_list=results)"
   ]
  },
  {
   "cell_type": "code",
   "execution_count": 10,
   "metadata": {},
   "outputs": [
    {
     "data": {
      "text/plain": [
       "[{'n_est': 1, 'depth': 2, 'score': 0.26112671595102105},\n",
       " {'n_est': 1, 'depth': 3, 'score': 0.24517237402024727},\n",
       " {'n_est': 1, 'depth': 4, 'score': 0.22639271402185765},\n",
       " {'n_est': 1, 'depth': 5, 'score': 0.22585539153243228},\n",
       " {'n_est': 1, 'depth': 6, 'score': 0.21749408183494134},\n",
       " {'n_est': 1, 'depth': 7, 'score': 0.2207615613168952},\n",
       " {'n_est': 1, 'depth': 8, 'score': 0.23469550652338414},\n",
       " {'n_est': 1, 'depth': 10, 'score': 0.23450491670010123},\n",
       " {'n_est': 1, 'depth': 12, 'score': 0.2525763454027633},\n",
       " {'n_est': 1, 'depth': 15, 'score': 0.2527956601330888},\n",
       " {'n_est': 1, 'depth': 20, 'score': 0.24537795384450542}]"
      ]
     },
     "execution_count": 10,
     "metadata": {},
     "output_type": "execute_result"
    }
   ],
   "source": [
    "results"
   ]
  },
  {
   "cell_type": "code",
   "execution_count": 11,
   "metadata": {},
   "outputs": [],
   "source": [
    "estimators = [5, 10, 15, 20, 25, 30, 35, 40, 45, 50, 60, 70, 80, 100, 150, 200, 250, 300, 400, 500, 1000]\n",
    "\n",
    "for est in estimators:\n",
    "    for depth in tree_depths:\n",
    "        forest(X_train, y_train, X_test, y_test, n_est=est, depth=depth, leaf_samples=2, features=5, res_list=results)"
   ]
  },
  {
   "cell_type": "code",
   "execution_count": 12,
   "metadata": {},
   "outputs": [
    {
     "data": {
      "text/plain": [
       "[{'n_est': 1, 'depth': 2, 'score': 0.26112671595102105},\n",
       " {'n_est': 1, 'depth': 3, 'score': 0.24517237402024727},\n",
       " {'n_est': 1, 'depth': 4, 'score': 0.22639271402185765},\n",
       " {'n_est': 1, 'depth': 5, 'score': 0.22585539153243228},\n",
       " {'n_est': 1, 'depth': 6, 'score': 0.21749408183494134},\n",
       " {'n_est': 1, 'depth': 7, 'score': 0.2207615613168952},\n",
       " {'n_est': 1, 'depth': 8, 'score': 0.23469550652338414},\n",
       " {'n_est': 1, 'depth': 10, 'score': 0.23450491670010123},\n",
       " {'n_est': 1, 'depth': 12, 'score': 0.2525763454027633},\n",
       " {'n_est': 1, 'depth': 15, 'score': 0.2527956601330888},\n",
       " {'n_est': 1, 'depth': 20, 'score': 0.24537795384450542},\n",
       " {'n_est': 5, 'depth': 2, 'score': 0.24045832703071937},\n",
       " {'n_est': 5, 'depth': 3, 'score': 0.21434531020845674},\n",
       " {'n_est': 5, 'depth': 4, 'score': 0.2094287162504363},\n",
       " {'n_est': 5, 'depth': 5, 'score': 0.20285941151756073},\n",
       " {'n_est': 5, 'depth': 6, 'score': 0.20181734469031676},\n",
       " {'n_est': 5, 'depth': 7, 'score': 0.19883939846400167},\n",
       " {'n_est': 5, 'depth': 8, 'score': 0.19681992843548612},\n",
       " {'n_est': 5, 'depth': 10, 'score': 0.20423978204673077},\n",
       " {'n_est': 5, 'depth': 12, 'score': 0.20092189797731627},\n",
       " {'n_est': 5, 'depth': 15, 'score': 0.20426928149668097},\n",
       " {'n_est': 5, 'depth': 20, 'score': 0.19565825679334317},\n",
       " {'n_est': 10, 'depth': 2, 'score': 0.2347356836094644},\n",
       " {'n_est': 10, 'depth': 3, 'score': 0.21383409395745087},\n",
       " {'n_est': 10, 'depth': 4, 'score': 0.20504107189486248},\n",
       " {'n_est': 10, 'depth': 5, 'score': 0.198098336472315},\n",
       " {'n_est': 10, 'depth': 6, 'score': 0.19409161956589438},\n",
       " {'n_est': 10, 'depth': 7, 'score': 0.18960904543663953},\n",
       " {'n_est': 10, 'depth': 8, 'score': 0.18940304345244507},\n",
       " {'n_est': 10, 'depth': 10, 'score': 0.19004059343424365},\n",
       " {'n_est': 10, 'depth': 12, 'score': 0.1991574028359257},\n",
       " {'n_est': 10, 'depth': 15, 'score': 0.18630599445505422},\n",
       " {'n_est': 10, 'depth': 20, 'score': 0.18971022331121543},\n",
       " {'n_est': 15, 'depth': 2, 'score': 0.23596155437728772},\n",
       " {'n_est': 15, 'depth': 3, 'score': 0.21165036583778177},\n",
       " {'n_est': 15, 'depth': 4, 'score': 0.20017793812014645},\n",
       " {'n_est': 15, 'depth': 5, 'score': 0.19801626739445252},\n",
       " {'n_est': 15, 'depth': 6, 'score': 0.18743159946488253},\n",
       " {'n_est': 15, 'depth': 7, 'score': 0.19173617567894927},\n",
       " {'n_est': 15, 'depth': 8, 'score': 0.18586380676171818},\n",
       " {'n_est': 15, 'depth': 10, 'score': 0.18735200044157946},\n",
       " {'n_est': 15, 'depth': 12, 'score': 0.18705133999298795},\n",
       " {'n_est': 15, 'depth': 15, 'score': 0.18959000638536597},\n",
       " {'n_est': 15, 'depth': 20, 'score': 0.18692085526646804},\n",
       " {'n_est': 20, 'depth': 2, 'score': 0.23279312956011503},\n",
       " {'n_est': 20, 'depth': 3, 'score': 0.21333078896195107},\n",
       " {'n_est': 20, 'depth': 4, 'score': 0.19563593382549602},\n",
       " {'n_est': 20, 'depth': 5, 'score': 0.19417352757546097},\n",
       " {'n_est': 20, 'depth': 6, 'score': 0.1902194012071666},\n",
       " {'n_est': 20, 'depth': 7, 'score': 0.18862844406197965},\n",
       " {'n_est': 20, 'depth': 8, 'score': 0.18758622988099588},\n",
       " {'n_est': 20, 'depth': 10, 'score': 0.18452052555278226},\n",
       " {'n_est': 20, 'depth': 12, 'score': 0.18918330195519528},\n",
       " {'n_est': 20, 'depth': 15, 'score': 0.18781302502539068},\n",
       " {'n_est': 20, 'depth': 20, 'score': 0.18762091870926723},\n",
       " {'n_est': 25, 'depth': 2, 'score': 0.23375429119854124},\n",
       " {'n_est': 25, 'depth': 3, 'score': 0.20806903010025063},\n",
       " {'n_est': 25, 'depth': 4, 'score': 0.19831999763422078},\n",
       " {'n_est': 25, 'depth': 5, 'score': 0.19371264782079078},\n",
       " {'n_est': 25, 'depth': 6, 'score': 0.18901736585017134},\n",
       " {'n_est': 25, 'depth': 7, 'score': 0.1886530277304123},\n",
       " {'n_est': 25, 'depth': 8, 'score': 0.18598810918562275},\n",
       " {'n_est': 25, 'depth': 10, 'score': 0.1853763145398698},\n",
       " {'n_est': 25, 'depth': 12, 'score': 0.18429044389676014},\n",
       " {'n_est': 25, 'depth': 15, 'score': 0.18703610322059896},\n",
       " {'n_est': 25, 'depth': 20, 'score': 0.18625776422640655},\n",
       " {'n_est': 30, 'depth': 2, 'score': 0.23377698237798786},\n",
       " {'n_est': 30, 'depth': 3, 'score': 0.2099183972440018},\n",
       " {'n_est': 30, 'depth': 4, 'score': 0.19801925957678668},\n",
       " {'n_est': 30, 'depth': 5, 'score': 0.19225081560160362},\n",
       " {'n_est': 30, 'depth': 6, 'score': 0.19152490625746424},\n",
       " {'n_est': 30, 'depth': 7, 'score': 0.18894600216586685},\n",
       " {'n_est': 30, 'depth': 8, 'score': 0.1876793851328637},\n",
       " {'n_est': 30, 'depth': 10, 'score': 0.1889773797719774},\n",
       " {'n_est': 30, 'depth': 12, 'score': 0.1878975431699399},\n",
       " {'n_est': 30, 'depth': 15, 'score': 0.1843037802576265},\n",
       " {'n_est': 30, 'depth': 20, 'score': 0.1846415907443555},\n",
       " {'n_est': 35, 'depth': 2, 'score': 0.23586858321339124},\n",
       " {'n_est': 35, 'depth': 3, 'score': 0.2110733816579739},\n",
       " {'n_est': 35, 'depth': 4, 'score': 0.19771243481202913},\n",
       " {'n_est': 35, 'depth': 5, 'score': 0.19317243404640172},\n",
       " {'n_est': 35, 'depth': 6, 'score': 0.18977541429916703},\n",
       " {'n_est': 35, 'depth': 7, 'score': 0.18772634757229317},\n",
       " {'n_est': 35, 'depth': 8, 'score': 0.18792968856214937},\n",
       " {'n_est': 35, 'depth': 10, 'score': 0.18440136520215222},\n",
       " {'n_est': 35, 'depth': 12, 'score': 0.18374934583453265},\n",
       " {'n_est': 35, 'depth': 15, 'score': 0.1873545116517866},\n",
       " {'n_est': 35, 'depth': 20, 'score': 0.18686788981532934},\n",
       " {'n_est': 40, 'depth': 2, 'score': 0.23049641296861403},\n",
       " {'n_est': 40, 'depth': 3, 'score': 0.2105126557544519},\n",
       " {'n_est': 40, 'depth': 4, 'score': 0.19950352484190978},\n",
       " {'n_est': 40, 'depth': 5, 'score': 0.19195750488405683},\n",
       " {'n_est': 40, 'depth': 6, 'score': 0.18838357410832543},\n",
       " {'n_est': 40, 'depth': 7, 'score': 0.18807526348840595},\n",
       " {'n_est': 40, 'depth': 8, 'score': 0.18578069313483453},\n",
       " {'n_est': 40, 'depth': 10, 'score': 0.18430546784934188},\n",
       " {'n_est': 40, 'depth': 12, 'score': 0.1861746398280405},\n",
       " {'n_est': 40, 'depth': 15, 'score': 0.1821833819260282},\n",
       " {'n_est': 40, 'depth': 20, 'score': 0.18503674606721768},\n",
       " {'n_est': 45, 'depth': 2, 'score': 0.23442689036665862},\n",
       " {'n_est': 45, 'depth': 3, 'score': 0.2116729151006454},\n",
       " {'n_est': 45, 'depth': 4, 'score': 0.19904417644705902},\n",
       " {'n_est': 45, 'depth': 5, 'score': 0.19222630663906518},\n",
       " {'n_est': 45, 'depth': 6, 'score': 0.1903229445333446},\n",
       " {'n_est': 45, 'depth': 7, 'score': 0.18705785133863997},\n",
       " {'n_est': 45, 'depth': 8, 'score': 0.1860073132244048},\n",
       " {'n_est': 45, 'depth': 10, 'score': 0.1864816341344946},\n",
       " {'n_est': 45, 'depth': 12, 'score': 0.1860496151696805},\n",
       " {'n_est': 45, 'depth': 15, 'score': 0.1842401835444434},\n",
       " {'n_est': 45, 'depth': 20, 'score': 0.1829423696731704},\n",
       " {'n_est': 50, 'depth': 2, 'score': 0.23125730138775538},\n",
       " {'n_est': 50, 'depth': 3, 'score': 0.2100148086159274},\n",
       " {'n_est': 50, 'depth': 4, 'score': 0.1995689769638656},\n",
       " {'n_est': 50, 'depth': 5, 'score': 0.19284382456071034},\n",
       " {'n_est': 50, 'depth': 6, 'score': 0.19016922057054875},\n",
       " {'n_est': 50, 'depth': 7, 'score': 0.189265007220284},\n",
       " {'n_est': 50, 'depth': 8, 'score': 0.18717487154332096},\n",
       " {'n_est': 50, 'depth': 10, 'score': 0.18497428908613253},\n",
       " {'n_est': 50, 'depth': 12, 'score': 0.1851902836310857},\n",
       " {'n_est': 50, 'depth': 15, 'score': 0.18408007635106385},\n",
       " {'n_est': 50, 'depth': 20, 'score': 0.1844682111902192},\n",
       " {'n_est': 60, 'depth': 2, 'score': 0.23208593289543042},\n",
       " {'n_est': 60, 'depth': 3, 'score': 0.20895931030917894},\n",
       " {'n_est': 60, 'depth': 4, 'score': 0.1963530393784577},\n",
       " {'n_est': 60, 'depth': 5, 'score': 0.19344931542178093},\n",
       " {'n_est': 60, 'depth': 6, 'score': 0.18906551725297774},\n",
       " {'n_est': 60, 'depth': 7, 'score': 0.1876876724617785},\n",
       " {'n_est': 60, 'depth': 8, 'score': 0.1863550523397418},\n",
       " {'n_est': 60, 'depth': 10, 'score': 0.18564688739870827},\n",
       " {'n_est': 60, 'depth': 12, 'score': 0.1839216246701176},\n",
       " {'n_est': 60, 'depth': 15, 'score': 0.1845644807616179},\n",
       " {'n_est': 60, 'depth': 20, 'score': 0.1865520799923394},\n",
       " {'n_est': 70, 'depth': 2, 'score': 0.23106213595410194},\n",
       " {'n_est': 70, 'depth': 3, 'score': 0.2092299076921864},\n",
       " {'n_est': 70, 'depth': 4, 'score': 0.2002986784807976},\n",
       " {'n_est': 70, 'depth': 5, 'score': 0.19097478054042896},\n",
       " {'n_est': 70, 'depth': 6, 'score': 0.18973656061359767},\n",
       " {'n_est': 70, 'depth': 7, 'score': 0.18539114213306085},\n",
       " {'n_est': 70, 'depth': 8, 'score': 0.1857531286646647},\n",
       " {'n_est': 70, 'depth': 10, 'score': 0.1854660778856497},\n",
       " {'n_est': 70, 'depth': 12, 'score': 0.1849822372253156},\n",
       " {'n_est': 70, 'depth': 15, 'score': 0.18090162786202665},\n",
       " {'n_est': 70, 'depth': 20, 'score': 0.1842839767048316},\n",
       " {'n_est': 80, 'depth': 2, 'score': 0.23294544360187563},\n",
       " {'n_est': 80, 'depth': 3, 'score': 0.2094549359187516},\n",
       " {'n_est': 80, 'depth': 4, 'score': 0.19766912699365133},\n",
       " {'n_est': 80, 'depth': 5, 'score': 0.1929664438841144},\n",
       " {'n_est': 80, 'depth': 6, 'score': 0.18947261296196882},\n",
       " {'n_est': 80, 'depth': 7, 'score': 0.18614049769238977},\n",
       " {'n_est': 80, 'depth': 8, 'score': 0.1857520281058564},\n",
       " {'n_est': 80, 'depth': 10, 'score': 0.1861695864659245},\n",
       " {'n_est': 80, 'depth': 12, 'score': 0.1842114612692021},\n",
       " {'n_est': 80, 'depth': 15, 'score': 0.18520314340027627},\n",
       " {'n_est': 80, 'depth': 20, 'score': 0.18410109491743487},\n",
       " {'n_est': 100, 'depth': 2, 'score': 0.23266492848708992},\n",
       " {'n_est': 100, 'depth': 3, 'score': 0.2096844054336246},\n",
       " {'n_est': 100, 'depth': 4, 'score': 0.1964107452829452},\n",
       " {'n_est': 100, 'depth': 5, 'score': 0.1925768138828488},\n",
       " {'n_est': 100, 'depth': 6, 'score': 0.1891948745745443},\n",
       " {'n_est': 100, 'depth': 7, 'score': 0.18662976280437216},\n",
       " {'n_est': 100, 'depth': 8, 'score': 0.18344820860530506},\n",
       " {'n_est': 100, 'depth': 10, 'score': 0.1842468694769106},\n",
       " {'n_est': 100, 'depth': 12, 'score': 0.18552192439542228},\n",
       " {'n_est': 100, 'depth': 15, 'score': 0.1834416121129134},\n",
       " {'n_est': 100, 'depth': 20, 'score': 0.18418989693242802},\n",
       " {'n_est': 150, 'depth': 2, 'score': 0.23233551645421685},\n",
       " {'n_est': 150, 'depth': 3, 'score': 0.20956831693399364},\n",
       " {'n_est': 150, 'depth': 4, 'score': 0.19830053643533213},\n",
       " {'n_est': 150, 'depth': 5, 'score': 0.1915774747870661},\n",
       " {'n_est': 150, 'depth': 6, 'score': 0.18836180487244727},\n",
       " {'n_est': 150, 'depth': 7, 'score': 0.18524126914672664},\n",
       " {'n_est': 150, 'depth': 8, 'score': 0.1845913527418353},\n",
       " {'n_est': 150, 'depth': 10, 'score': 0.183739462118109},\n",
       " {'n_est': 150, 'depth': 12, 'score': 0.18257276548923976},\n",
       " {'n_est': 150, 'depth': 15, 'score': 0.18369658686144208},\n",
       " {'n_est': 150, 'depth': 20, 'score': 0.1841486272330562},\n",
       " {'n_est': 200, 'depth': 2, 'score': 0.23077655040039055},\n",
       " {'n_est': 200, 'depth': 3, 'score': 0.2092778163002174},\n",
       " {'n_est': 200, 'depth': 4, 'score': 0.1980054310045143},\n",
       " {'n_est': 200, 'depth': 5, 'score': 0.19267719381628598},\n",
       " {'n_est': 200, 'depth': 6, 'score': 0.18830586676680586},\n",
       " {'n_est': 200, 'depth': 7, 'score': 0.18752690754081208},\n",
       " {'n_est': 200, 'depth': 8, 'score': 0.18571127415054137},\n",
       " {'n_est': 200, 'depth': 10, 'score': 0.18499011263003115},\n",
       " {'n_est': 200, 'depth': 12, 'score': 0.18235214913796027},\n",
       " {'n_est': 200, 'depth': 15, 'score': 0.1831268503452248},\n",
       " {'n_est': 200, 'depth': 20, 'score': 0.18375847402683104},\n",
       " {'n_est': 250, 'depth': 2, 'score': 0.23113526962527364},\n",
       " {'n_est': 250, 'depth': 3, 'score': 0.20880097187628138},\n",
       " {'n_est': 250, 'depth': 4, 'score': 0.19834211340123706},\n",
       " {'n_est': 250, 'depth': 5, 'score': 0.19193551268795103},\n",
       " {'n_est': 250, 'depth': 6, 'score': 0.1873335420783759},\n",
       " {'n_est': 250, 'depth': 7, 'score': 0.18647873373366736},\n",
       " {'n_est': 250, 'depth': 8, 'score': 0.18480231084962168},\n",
       " {'n_est': 250, 'depth': 10, 'score': 0.18353755960605983},\n",
       " {'n_est': 250, 'depth': 12, 'score': 0.18304728116254312},\n",
       " {'n_est': 250, 'depth': 15, 'score': 0.18424120479530423},\n",
       " {'n_est': 250, 'depth': 20, 'score': 0.18286778359263292},\n",
       " {'n_est': 300, 'depth': 2, 'score': 0.23035327904881422},\n",
       " {'n_est': 300, 'depth': 3, 'score': 0.20906645325066883},\n",
       " {'n_est': 300, 'depth': 4, 'score': 0.19771658469640388},\n",
       " {'n_est': 300, 'depth': 5, 'score': 0.191718387666844},\n",
       " {'n_est': 300, 'depth': 6, 'score': 0.18833143680357278},\n",
       " {'n_est': 300, 'depth': 7, 'score': 0.1855042734432775},\n",
       " {'n_est': 300, 'depth': 8, 'score': 0.18423703273630662},\n",
       " {'n_est': 300, 'depth': 10, 'score': 0.1832960220891922},\n",
       " {'n_est': 300, 'depth': 12, 'score': 0.18270541493436748},\n",
       " {'n_est': 300, 'depth': 15, 'score': 0.18446113807936076},\n",
       " {'n_est': 300, 'depth': 20, 'score': 0.18336444910965438},\n",
       " {'n_est': 400, 'depth': 2, 'score': 0.2310883740725408},\n",
       " {'n_est': 400, 'depth': 3, 'score': 0.2094307315656615},\n",
       " {'n_est': 400, 'depth': 4, 'score': 0.197595628109896},\n",
       " {'n_est': 400, 'depth': 5, 'score': 0.19205749373845662},\n",
       " {'n_est': 400, 'depth': 6, 'score': 0.1878936404223179},\n",
       " {'n_est': 400, 'depth': 7, 'score': 0.18576490776901372},\n",
       " {'n_est': 400, 'depth': 8, 'score': 0.18431957517643496},\n",
       " {'n_est': 400, 'depth': 10, 'score': 0.1833135939822138},\n",
       " {'n_est': 400, 'depth': 12, 'score': 0.18291751805962997},\n",
       " {'n_est': 400, 'depth': 15, 'score': 0.18351664359969244},\n",
       " {'n_est': 400, 'depth': 20, 'score': 0.18341129454510882},\n",
       " {'n_est': 500, 'depth': 2, 'score': 0.23078891273595778},\n",
       " {'n_est': 500, 'depth': 3, 'score': 0.20932574156639913},\n",
       " {'n_est': 500, 'depth': 4, 'score': 0.19817741231052305},\n",
       " {'n_est': 500, 'depth': 5, 'score': 0.19182848633011998},\n",
       " {'n_est': 500, 'depth': 6, 'score': 0.18791003267279224},\n",
       " {'n_est': 500, 'depth': 7, 'score': 0.18614123739524324},\n",
       " {'n_est': 500, 'depth': 8, 'score': 0.18499156889014678},\n",
       " {'n_est': 500, 'depth': 10, 'score': 0.18335380069932414},\n",
       " {'n_est': 500, 'depth': 12, 'score': 0.182765446719896},\n",
       " {'n_est': 500, 'depth': 15, 'score': 0.18327079356699663},\n",
       " {'n_est': 500, 'depth': 20, 'score': 0.18350298112482485},\n",
       " {'n_est': 1000, 'depth': 2, 'score': 0.2310692481859789},\n",
       " {'n_est': 1000, 'depth': 3, 'score': 0.2091969157209593},\n",
       " {'n_est': 1000, 'depth': 4, 'score': 0.1977513029883547},\n",
       " {'n_est': 1000, 'depth': 5, 'score': 0.19170487110930634},\n",
       " {'n_est': 1000, 'depth': 6, 'score': 0.18835997198496235},\n",
       " {'n_est': 1000, 'depth': 7, 'score': 0.1854064297727057},\n",
       " {'n_est': 1000, 'depth': 8, 'score': 0.18362390587071242},\n",
       " {'n_est': 1000, 'depth': 10, 'score': 0.18310766361515507},\n",
       " {'n_est': 1000, 'depth': 12, 'score': 0.18266581671937754},\n",
       " {'n_est': 1000, 'depth': 15, 'score': 0.18246548655921824},\n",
       " {'n_est': 1000, 'depth': 20, 'score': 0.18273331170198492}]"
      ]
     },
     "execution_count": 12,
     "metadata": {},
     "output_type": "execute_result"
    }
   ],
   "source": [
    "results"
   ]
  },
  {
   "cell_type": "code",
   "execution_count": 13,
   "metadata": {},
   "outputs": [],
   "source": [
    "min_score = results[0][\"score\"]\n",
    "line = results[0]\n",
    "\n",
    "for res in results:\n",
    "    if res[\"score\"] < min_score:\n",
    "        min_score = res[\"score\"]\n",
    "        line = res"
   ]
  },
  {
   "cell_type": "code",
   "execution_count": 14,
   "metadata": {},
   "outputs": [
    {
     "data": {
      "text/plain": [
       "{'n_est': 70, 'depth': 15, 'score': 0.18090162786202665}"
      ]
     },
     "execution_count": 14,
     "metadata": {},
     "output_type": "execute_result"
    }
   ],
   "source": [
    "line"
   ]
  },
  {
   "cell_type": "code",
   "execution_count": 63,
   "metadata": {},
   "outputs": [
    {
     "data": {
      "text/plain": [
       "RandomForestRegressor(bootstrap=True, criterion='mse', max_depth=15,\n",
       "                      max_features='auto', max_leaf_nodes=None,\n",
       "                      min_impurity_decrease=0.0, min_impurity_split=None,\n",
       "                      min_samples_leaf=1, min_samples_split=2,\n",
       "                      min_weight_fraction_leaf=0.0, n_estimators=70,\n",
       "                      n_jobs=None, oob_score=False, random_state=None,\n",
       "                      verbose=0, warm_start=False)"
      ]
     },
     "execution_count": 63,
     "metadata": {},
     "output_type": "execute_result"
    }
   ],
   "source": [
    "model = RandomForestRegressor(n_estimators=line[\"n_est\"], max_depth=line[\"depth\"])\n",
    "model.fit(X_train, y_train)"
   ]
  },
  {
   "cell_type": "code",
   "execution_count": 39,
   "metadata": {},
   "outputs": [
    {
     "data": {
      "text/plain": [
       "0.0"
      ]
     },
     "execution_count": 39,
     "metadata": {},
     "output_type": "execute_result"
    }
   ],
   "source": [
    "gar_mode = test[\"GarageCars\"].mode()[0]\n",
    "bsmt_mode = test[\"TotalBsmtSF\"].mode().max()"
   ]
  },
  {
   "cell_type": "code",
   "execution_count": 40,
   "metadata": {},
   "outputs": [],
   "source": [
    "test[\"GarageCars\"].fillna(gar_mode, inplace=True)\n",
    "test[\"TotalBsmtSF\"].fillna(bsmt_mode, inplace=True)"
   ]
  },
  {
   "cell_type": "code",
   "execution_count": 64,
   "metadata": {},
   "outputs": [
    {
     "data": {
      "text/plain": [
       "array([[5.00000000e+00, 6.79794041e+00, 1.00000000e+00, ...,\n",
       "        1.00000000e+00, 1.96100000e+03, 3.00000000e+00],\n",
       "       [6.00000000e+00, 7.19218206e+00, 1.00000000e+00, ...,\n",
       "        1.00000000e+00, 1.95800000e+03, 3.00000000e+00],\n",
       "       [5.00000000e+00, 7.39572161e+00, 2.00000000e+00, ...,\n",
       "        2.00000000e+00, 1.99700000e+03, 3.00000000e+00],\n",
       "       ...,\n",
       "       [5.00000000e+00, 7.10987946e+00, 2.00000000e+00, ...,\n",
       "        1.00000000e+00, 1.96000000e+03, 3.00000000e+00],\n",
       "       [5.00000000e+00, 6.87729607e+00, 0.00000000e+00, ...,\n",
       "        1.00000000e+00, 1.99200000e+03, 3.00000000e+00],\n",
       "       [7.00000000e+00, 7.60090246e+00, 3.00000000e+00, ...,\n",
       "        2.00000000e+00, 1.99300000e+03, 3.00000000e+00]])"
      ]
     },
     "execution_count": 64,
     "metadata": {},
     "output_type": "execute_result"
    }
   ],
   "source": [
    "test = np.array(test)\n",
    "test"
   ]
  },
  {
   "cell_type": "code",
   "execution_count": 65,
   "metadata": {},
   "outputs": [],
   "source": [
    "preds = model.predict(test)"
   ]
  },
  {
   "cell_type": "code",
   "execution_count": 66,
   "metadata": {},
   "outputs": [
    {
     "data": {
      "text/plain": [
       "array([11.69754571, 11.80525059, 11.95937253, ..., 11.81633696,\n",
       "       11.54015541, 12.32028239])"
      ]
     },
     "execution_count": 66,
     "metadata": {},
     "output_type": "execute_result"
    }
   ],
   "source": [
    "preds"
   ]
  },
  {
   "cell_type": "code",
   "execution_count": 67,
   "metadata": {},
   "outputs": [],
   "source": [
    "df = pd.read_csv(\"E:\\\\Data Science\\\\Datasets\\\\HousePrices\\\\data_test.csv\")"
   ]
  },
  {
   "cell_type": "code",
   "execution_count": 68,
   "metadata": {},
   "outputs": [
    {
     "data": {
      "text/plain": [
       "array([1461, 1462, 1463, ..., 2917, 2918, 2919], dtype=int64)"
      ]
     },
     "execution_count": 68,
     "metadata": {},
     "output_type": "execute_result"
    }
   ],
   "source": [
    "df.index.values + 1461"
   ]
  },
  {
   "cell_type": "code",
   "execution_count": 69,
   "metadata": {},
   "outputs": [
    {
     "data": {
      "text/plain": [
       "array([120276.16010342, 133953.84695053, 156274.99582014, ...,\n",
       "       135447.17084127, 102760.4063257 , 224197.44349856])"
      ]
     },
     "execution_count": 69,
     "metadata": {},
     "output_type": "execute_result"
    }
   ],
   "source": [
    "norm_preds = np.exp(preds)\n",
    "norm_preds"
   ]
  },
  {
   "cell_type": "code",
   "execution_count": 70,
   "metadata": {},
   "outputs": [
    {
     "data": {
      "text/html": [
       "<div>\n",
       "<style scoped>\n",
       "    .dataframe tbody tr th:only-of-type {\n",
       "        vertical-align: middle;\n",
       "    }\n",
       "\n",
       "    .dataframe tbody tr th {\n",
       "        vertical-align: top;\n",
       "    }\n",
       "\n",
       "    .dataframe thead th {\n",
       "        text-align: right;\n",
       "    }\n",
       "</style>\n",
       "<table border=\"1\" class=\"dataframe\">\n",
       "  <thead>\n",
       "    <tr style=\"text-align: right;\">\n",
       "      <th></th>\n",
       "      <th>Id</th>\n",
       "      <th>SalePrice</th>\n",
       "    </tr>\n",
       "  </thead>\n",
       "  <tbody>\n",
       "    <tr>\n",
       "      <td>0</td>\n",
       "      <td>1461</td>\n",
       "      <td>120276.160103</td>\n",
       "    </tr>\n",
       "    <tr>\n",
       "      <td>1</td>\n",
       "      <td>1462</td>\n",
       "      <td>133953.846951</td>\n",
       "    </tr>\n",
       "    <tr>\n",
       "      <td>2</td>\n",
       "      <td>1463</td>\n",
       "      <td>156274.995820</td>\n",
       "    </tr>\n",
       "    <tr>\n",
       "      <td>3</td>\n",
       "      <td>1464</td>\n",
       "      <td>183996.831618</td>\n",
       "    </tr>\n",
       "    <tr>\n",
       "      <td>4</td>\n",
       "      <td>1465</td>\n",
       "      <td>190162.529973</td>\n",
       "    </tr>\n",
       "    <tr>\n",
       "      <td>...</td>\n",
       "      <td>...</td>\n",
       "      <td>...</td>\n",
       "    </tr>\n",
       "    <tr>\n",
       "      <td>1454</td>\n",
       "      <td>2915</td>\n",
       "      <td>84266.651819</td>\n",
       "    </tr>\n",
       "    <tr>\n",
       "      <td>1455</td>\n",
       "      <td>2916</td>\n",
       "      <td>91639.539749</td>\n",
       "    </tr>\n",
       "    <tr>\n",
       "      <td>1456</td>\n",
       "      <td>2917</td>\n",
       "      <td>135447.170841</td>\n",
       "    </tr>\n",
       "    <tr>\n",
       "      <td>1457</td>\n",
       "      <td>2918</td>\n",
       "      <td>102760.406326</td>\n",
       "    </tr>\n",
       "    <tr>\n",
       "      <td>1458</td>\n",
       "      <td>2919</td>\n",
       "      <td>224197.443499</td>\n",
       "    </tr>\n",
       "  </tbody>\n",
       "</table>\n",
       "<p>1459 rows × 2 columns</p>\n",
       "</div>"
      ],
      "text/plain": [
       "        Id      SalePrice\n",
       "0     1461  120276.160103\n",
       "1     1462  133953.846951\n",
       "2     1463  156274.995820\n",
       "3     1464  183996.831618\n",
       "4     1465  190162.529973\n",
       "...    ...            ...\n",
       "1454  2915   84266.651819\n",
       "1455  2916   91639.539749\n",
       "1456  2917  135447.170841\n",
       "1457  2918  102760.406326\n",
       "1458  2919  224197.443499\n",
       "\n",
       "[1459 rows x 2 columns]"
      ]
     },
     "execution_count": 70,
     "metadata": {},
     "output_type": "execute_result"
    }
   ],
   "source": [
    "df_predictions = pd.DataFrame({\"Id\" : df.index.values + 1461, \"SalePrice\" : norm_preds})\n",
    "df_predictions"
   ]
  },
  {
   "cell_type": "code",
   "execution_count": 21,
   "metadata": {},
   "outputs": [
    {
     "data": {
      "text/html": [
       "<div>\n",
       "<style scoped>\n",
       "    .dataframe tbody tr th:only-of-type {\n",
       "        vertical-align: middle;\n",
       "    }\n",
       "\n",
       "    .dataframe tbody tr th {\n",
       "        vertical-align: top;\n",
       "    }\n",
       "\n",
       "    .dataframe thead th {\n",
       "        text-align: right;\n",
       "    }\n",
       "</style>\n",
       "<table border=\"1\" class=\"dataframe\">\n",
       "  <thead>\n",
       "    <tr style=\"text-align: right;\">\n",
       "      <th></th>\n",
       "      <th>Id</th>\n",
       "      <th>SalePrice</th>\n",
       "    </tr>\n",
       "  </thead>\n",
       "  <tbody>\n",
       "    <tr>\n",
       "      <td>0</td>\n",
       "      <td>1461</td>\n",
       "      <td>122060.122846</td>\n",
       "    </tr>\n",
       "    <tr>\n",
       "      <td>1</td>\n",
       "      <td>1462</td>\n",
       "      <td>151333.260164</td>\n",
       "    </tr>\n",
       "    <tr>\n",
       "      <td>2</td>\n",
       "      <td>1463</td>\n",
       "      <td>162918.184327</td>\n",
       "    </tr>\n",
       "    <tr>\n",
       "      <td>3</td>\n",
       "      <td>1464</td>\n",
       "      <td>178862.249679</td>\n",
       "    </tr>\n",
       "    <tr>\n",
       "      <td>4</td>\n",
       "      <td>1465</td>\n",
       "      <td>208060.450855</td>\n",
       "    </tr>\n",
       "    <tr>\n",
       "      <td>...</td>\n",
       "      <td>...</td>\n",
       "      <td>...</td>\n",
       "    </tr>\n",
       "    <tr>\n",
       "      <td>1454</td>\n",
       "      <td>2915</td>\n",
       "      <td>87247.946193</td>\n",
       "    </tr>\n",
       "    <tr>\n",
       "      <td>1455</td>\n",
       "      <td>2916</td>\n",
       "      <td>85299.478415</td>\n",
       "    </tr>\n",
       "    <tr>\n",
       "      <td>1456</td>\n",
       "      <td>2917</td>\n",
       "      <td>146772.422136</td>\n",
       "    </tr>\n",
       "    <tr>\n",
       "      <td>1457</td>\n",
       "      <td>2918</td>\n",
       "      <td>126321.372358</td>\n",
       "    </tr>\n",
       "    <tr>\n",
       "      <td>1458</td>\n",
       "      <td>2919</td>\n",
       "      <td>214287.749904</td>\n",
       "    </tr>\n",
       "  </tbody>\n",
       "</table>\n",
       "<p>1459 rows × 2 columns</p>\n",
       "</div>"
      ],
      "text/plain": [
       "        Id      SalePrice\n",
       "0     1461  122060.122846\n",
       "1     1462  151333.260164\n",
       "2     1463  162918.184327\n",
       "3     1464  178862.249679\n",
       "4     1465  208060.450855\n",
       "...    ...            ...\n",
       "1454  2915   87247.946193\n",
       "1455  2916   85299.478415\n",
       "1456  2917  146772.422136\n",
       "1457  2918  126321.372358\n",
       "1458  2919  214287.749904\n",
       "\n",
       "[1459 rows x 2 columns]"
      ]
     },
     "execution_count": 21,
     "metadata": {},
     "output_type": "execute_result"
    }
   ],
   "source": [
    "df_predictions = pd.DataFrame({\"Id\" : df.index.values + 1461, \"SalePrice\" : preds})\n",
    "df_predictions"
   ]
  },
  {
   "cell_type": "code",
   "execution_count": 71,
   "metadata": {},
   "outputs": [],
   "source": [
    "df_predictions.to_csv(\"E:\\\\Data Science\\\\Datasets\\\\HousePrices\\\\predictions06.09.2143.csv\", index=False)"
   ]
  },
  {
   "cell_type": "code",
   "execution_count": 72,
   "metadata": {},
   "outputs": [
    {
     "data": {
      "text/html": [
       "<div>\n",
       "<style scoped>\n",
       "    .dataframe tbody tr th:only-of-type {\n",
       "        vertical-align: middle;\n",
       "    }\n",
       "\n",
       "    .dataframe tbody tr th {\n",
       "        vertical-align: top;\n",
       "    }\n",
       "\n",
       "    .dataframe thead th {\n",
       "        text-align: right;\n",
       "    }\n",
       "</style>\n",
       "<table border=\"1\" class=\"dataframe\">\n",
       "  <thead>\n",
       "    <tr style=\"text-align: right;\">\n",
       "      <th></th>\n",
       "      <th>Id</th>\n",
       "      <th>SalePrice</th>\n",
       "    </tr>\n",
       "  </thead>\n",
       "  <tbody>\n",
       "    <tr>\n",
       "      <td>0</td>\n",
       "      <td>1461</td>\n",
       "      <td>120276.160103</td>\n",
       "    </tr>\n",
       "    <tr>\n",
       "      <td>1</td>\n",
       "      <td>1462</td>\n",
       "      <td>133953.846951</td>\n",
       "    </tr>\n",
       "    <tr>\n",
       "      <td>2</td>\n",
       "      <td>1463</td>\n",
       "      <td>156274.995820</td>\n",
       "    </tr>\n",
       "    <tr>\n",
       "      <td>3</td>\n",
       "      <td>1464</td>\n",
       "      <td>183996.831618</td>\n",
       "    </tr>\n",
       "    <tr>\n",
       "      <td>4</td>\n",
       "      <td>1465</td>\n",
       "      <td>190162.529973</td>\n",
       "    </tr>\n",
       "    <tr>\n",
       "      <td>...</td>\n",
       "      <td>...</td>\n",
       "      <td>...</td>\n",
       "    </tr>\n",
       "    <tr>\n",
       "      <td>1454</td>\n",
       "      <td>2915</td>\n",
       "      <td>84266.651819</td>\n",
       "    </tr>\n",
       "    <tr>\n",
       "      <td>1455</td>\n",
       "      <td>2916</td>\n",
       "      <td>91639.539749</td>\n",
       "    </tr>\n",
       "    <tr>\n",
       "      <td>1456</td>\n",
       "      <td>2917</td>\n",
       "      <td>135447.170841</td>\n",
       "    </tr>\n",
       "    <tr>\n",
       "      <td>1457</td>\n",
       "      <td>2918</td>\n",
       "      <td>102760.406326</td>\n",
       "    </tr>\n",
       "    <tr>\n",
       "      <td>1458</td>\n",
       "      <td>2919</td>\n",
       "      <td>224197.443499</td>\n",
       "    </tr>\n",
       "  </tbody>\n",
       "</table>\n",
       "<p>1459 rows × 2 columns</p>\n",
       "</div>"
      ],
      "text/plain": [
       "        Id      SalePrice\n",
       "0     1461  120276.160103\n",
       "1     1462  133953.846951\n",
       "2     1463  156274.995820\n",
       "3     1464  183996.831618\n",
       "4     1465  190162.529973\n",
       "...    ...            ...\n",
       "1454  2915   84266.651819\n",
       "1455  2916   91639.539749\n",
       "1456  2917  135447.170841\n",
       "1457  2918  102760.406326\n",
       "1458  2919  224197.443499\n",
       "\n",
       "[1459 rows x 2 columns]"
      ]
     },
     "execution_count": 72,
     "metadata": {},
     "output_type": "execute_result"
    }
   ],
   "source": [
    "q = pd.read_csv(\"E:\\\\Data Science\\\\Datasets\\\\HousePrices\\\\predictions06.09.2143.csv\")\n",
    "q"
   ]
  },
  {
   "cell_type": "code",
   "execution_count": null,
   "metadata": {},
   "outputs": [],
   "source": []
  }
 ],
 "metadata": {
  "kernelspec": {
   "display_name": "Python 3",
   "language": "python",
   "name": "python3"
  },
  "language_info": {
   "codemirror_mode": {
    "name": "ipython",
    "version": 3
   },
   "file_extension": ".py",
   "mimetype": "text/x-python",
   "name": "python",
   "nbconvert_exporter": "python",
   "pygments_lexer": "ipython3",
   "version": "3.7.4"
  }
 },
 "nbformat": 4,
 "nbformat_minor": 2
}
